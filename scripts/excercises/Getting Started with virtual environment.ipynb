{
 "cells": [
  {
   "cell_type": "markdown",
   "metadata": {},
   "source": [
    "Please install newest version of VirtualBox from [official source](https://www.virtualbox.org/wiki/Downloads) with additional [extension pack](http://download.virtualbox.org/virtualbox/5.1.26/Oracle_VM_VirtualBox_Extension_Pack-5.1.26-117224.vbox-extpack) Alternativly all of those downloads will be avaiable in source pointed out by instructors. \n",
    "Extension Pack mainly adds support for USB devices connected to host machine and webcam passthrough, it can be installed only after proper setup of VBox simply by double clicking its file or from VBox settings manager (**File**->**Perferences**->**Extensions** Ctrl+G).\n",
    "![VBox extensions](images/extensions.png)"
   ]
  },
  {
   "cell_type": "markdown",
   "metadata": {},
   "source": [
    "Download virtual machine image OVA (Open Virtualization Format) file from sources pointed out by instructors. \n",
    "After double-clicking it or opening from **File**->**Import Appliance** menu (Ctrl+I) you should get form like in picture bellow. Check Reinitialize MAC addres checkbox if not checked and click import.\n",
    "![import VM image](images/import_vm.png)"
   ]
  },
  {
   "cell_type": "markdown",
   "metadata": {},
   "source": [
    "\n",
    "After VM is imported we need to change a few settings. At first, network needs to be configured in a way which makes machine visible at host network. Just go to **machine settings**(Ctrl+S) -> **Network** and configure it accordingly to picture bellow:\n",
    "![VM network settings](images/network_settings.png)\n",
    "![VM network settings ubuntu](images/network_ubuntu.png)\n",
    "Please remember to chose the name of network interface to one which is used by host system for connection with local network.\n",
    "\n",
    "Then go to USB settings and enable USB 2.0 bus. \n",
    "![VM USB settings](images/camera_settings.png)\n",
    "\n"
   ]
  },
  {
   "cell_type": "markdown",
   "metadata": {},
   "source": [
    "To start the machine press the green arrow button. Machine should boot up without any problems.\n",
    "Your username is **robotuser** password is **robot**.\n",
    "Additionaly if you have USB or built-in camera - for stream sharing, select the device from **Devices**->**Webcams** menu in running VM instance window. Image bellow ilustrates this step. \n",
    "![VM cam](images/webcam_settings.png)"
   ]
  },
  {
   "cell_type": "code",
   "execution_count": null,
   "metadata": {
    "collapsed": true
   },
   "outputs": [],
   "source": []
  }
 ],
 "metadata": {
  "kernelspec": {
   "display_name": "Python 2",
   "language": "python",
   "name": "python2"
  },
  "language_info": {
   "codemirror_mode": {
    "name": "ipython",
    "version": 2
   },
   "file_extension": ".py",
   "mimetype": "text/x-python",
   "name": "python",
   "nbconvert_exporter": "python",
   "pygments_lexer": "ipython2",
   "version": "2.7.6"
  }
 },
 "nbformat": 4,
 "nbformat_minor": 0
}
